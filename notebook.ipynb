{
 "cells": [
  {
   "cell_type": "code",
   "execution_count": null,
   "metadata": {},
   "outputs": [],
   "source": [
    "from langchain.chat_models import ChatOpenAI\n",
    "from langchain.prompts import ChatPromptTemplate\n",
    "from langchain.callbacks import StreamingStdOutCallbackHandler\n",
    "\n",
    "\n",
    "chat = ChatOpenAI(\n",
    "    model=\"gpt-3.5-turbo\",\n",
    "    temperature=0.7,\n",
    ")\n",
    "\n",
    "\n",
    "haiku_prompt = ChatPromptTemplate.from_messages([\n",
    "    (\"system\", \"You are a poet specialized in writing Haikus about programming languages.\"),\n",
    "    (\"human\", \"Write a Haiku about the {language} programming language.\"),\n",
    "])\n",
    "\n",
    "\n",
    "haiku_chain = haiku_prompt | chat\n",
    "\n"
   ]
  },
  {
   "cell_type": "code",
   "execution_count": 32,
   "metadata": {},
   "outputs": [
    {
     "name": "stdout",
     "output_type": "stream",
     "text": [
      "This Haiku uses programming terminology and imagery to describe the Python programming language. Let's break it down line by line:\n",
      "\n",
      "1. \"Indents like a snake,\" - In Python, indentation is crucial for structuring the code. The use of whitespace, typically spaces or tabs, is used to indicate the block of code. This line likens the indentation in Python to a snake, which can be interpreted as both sleek and necessary for proper functioning.\n",
      "\n",
      "2. \"Python slithers through code lines,\" - Here, \"Python\" refers to the programming language rather than the reptile. The word \"slithers\" suggests a smooth and fluid movement, indicating how Python code flows through lines of code effortlessly.\n",
      "\n",
      "3. \"Elegant and clean.\" - This line highlights a key characteristic of Python programming - its readability and simplicity. Python is known for its clean and elegant syntax, which makes it easy to write and understand code.\n",
      "\n",
      "Overall, this Haiku captures the essence of Python programming by emphasizing its structured nature, smooth flow, and elegance in simplicity.\n"
     ]
    }
   ],
   "source": [
    "\n",
    "explanation_prompt = ChatPromptTemplate.from_messages([\n",
    "    (\"system\", \"You are a teacher who explains Haikus in detail.\"),\n",
    "    (\"human\", \"Explain this Haiku in the context of programming:\\n\\n{haiku}\"),\n",
    "])\n",
    "\n",
    "\n",
    "explanation_chain = explanation_prompt | chat\n",
    "\n",
    "\n",
    "\n",
    "final_chain = {\"haiku\": haiku_chain} | explanation_chain\n",
    "\n",
    "\n",
    "result = final_chain.invoke({\n",
    "    \"language\": \"Python\"  \n",
    "})\n",
    "\n",
    "\n",
    "\n",
    "print((result.content))  \n",
    "\n"
   ]
  }
 ],
 "metadata": {
  "kernelspec": {
   "display_name": "env",
   "language": "python",
   "name": "python3"
  },
  "language_info": {
   "codemirror_mode": {
    "name": "ipython",
    "version": 3
   },
   "file_extension": ".py",
   "mimetype": "text/x-python",
   "name": "python",
   "nbconvert_exporter": "python",
   "pygments_lexer": "ipython3",
   "version": "3.11.2"
  }
 },
 "nbformat": 4,
 "nbformat_minor": 2
}
